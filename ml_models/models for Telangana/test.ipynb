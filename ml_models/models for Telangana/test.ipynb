{
 "cells": [
  {
   "cell_type": "markdown",
   "metadata": {
    "colab_type": "text",
    "id": "r3cas2_1T98w"
   },
   "source": [
    "# Decision Tree Regression"
   ]
  },
  {
   "cell_type": "markdown",
   "metadata": {
    "colab_type": "text",
    "id": "IODliia6U1xO"
   },
   "source": [
    "## Importing the libraries"
   ]
  },
  {
   "cell_type": "code",
   "execution_count": 1,
   "metadata": {
    "colab": {},
    "colab_type": "code",
    "id": "y98nA5UdU6Hf"
   },
   "outputs": [],
   "source": [
    "import numpy as np\n",
    "import matplotlib.pyplot as plt\n",
    "import pandas as pd"
   ]
  },
  {
   "cell_type": "markdown",
   "metadata": {
    "colab_type": "text",
    "id": "jpjZ43YlU8eI"
   },
   "source": [
    "## Importing the dataset"
   ]
  },
  {
   "cell_type": "markdown",
   "metadata": {},
   "source": [
    "### setting the date column "
   ]
  },
  {
   "cell_type": "code",
   "execution_count": 2,
   "metadata": {},
   "outputs": [
    {
     "data": {
      "text/plain": [
       "0    01/01/2011\n",
       "1    18/04/2011\n",
       "2    19/04/2011\n",
       "3    20/04/2011\n",
       "4    21/04/2011\n",
       "Name: Date, dtype: object"
      ]
     },
     "execution_count": 2,
     "metadata": {},
     "output_type": "execute_result"
    }
   ],
   "source": [
    "data = pd.read_csv('telangana_final.csv')\n",
    "data['Date'].head()"
   ]
  },
  {
   "cell_type": "code",
   "execution_count": 3,
   "metadata": {},
   "outputs": [
    {
     "data": {
      "text/plain": [
       "0   2011-01-01\n",
       "1   2011-04-18\n",
       "2   2011-04-19\n",
       "3   2011-04-20\n",
       "4   2011-04-21\n",
       "Name: Date, dtype: datetime64[ns]"
      ]
     },
     "execution_count": 3,
     "metadata": {},
     "output_type": "execute_result"
    }
   ],
   "source": [
    "import datetime as dt\n",
    "data['Date'] = pd.to_datetime(data['Date'])\n",
    "data['Date'].head()"
   ]
  },
  {
   "cell_type": "markdown",
   "metadata": {},
   "source": [
    "### getting the empty value "
   ]
  },
  {
   "cell_type": "code",
   "execution_count": 4,
   "metadata": {},
   "outputs": [],
   "source": [
    "data[data == np.inf] = np.nan\n",
    "data.fillna(data.mean() , inplace = True)"
   ]
  },
  {
   "cell_type": "code",
   "execution_count": 5,
   "metadata": {},
   "outputs": [
    {
     "data": {
      "text/plain": [
       "array([[2011, 'Adilabad', 'Cotton (Unginned)', 1],\n",
       "       [2011, 'Adilabad', 'Cotton (Unginned)', 4],\n",
       "       [2011, 'Adilabad', 'Cotton (Unginned)', 4],\n",
       "       ...,\n",
       "       [2020, 'Warangal', 'Cotton (Unginned)', 5],\n",
       "       [2020, 'Warangal', 'Cotton (Unginned)', 5],\n",
       "       [2020, 'Warangal', 'Cotton (Unginned)', 5]], dtype=object)"
      ]
     },
     "execution_count": 5,
     "metadata": {},
     "output_type": "execute_result"
    }
   ],
   "source": [
    "X = data.iloc[: , [0,1,2,4]].values\n",
    "X"
   ]
  },
  {
   "cell_type": "code",
   "execution_count": 6,
   "metadata": {},
   "outputs": [
    {
     "name": "stdout",
     "output_type": "stream",
     "text": [
      "['Adilabad' 'Adilabad' 'Adilabad' ... 'Warangal' 'Warangal' 'Warangal']\n"
     ]
    }
   ],
   "source": [
    "print(X[:,1])"
   ]
  },
  {
   "cell_type": "code",
   "execution_count": 7,
   "metadata": {},
   "outputs": [
    {
     "data": {
      "text/plain": [
       "array([[2011, 0, 2, 1],\n",
       "       [2011, 0, 2, 4],\n",
       "       [2011, 0, 2, 4],\n",
       "       ...,\n",
       "       [2020, 3, 2, 5],\n",
       "       [2020, 3, 2, 5],\n",
       "       [2020, 3, 2, 5]], dtype=object)"
      ]
     },
     "execution_count": 7,
     "metadata": {},
     "output_type": "execute_result"
    }
   ],
   "source": [
    "from sklearn.preprocessing import LabelEncoder\n",
    "le_1 = LabelEncoder()\n",
    "le_2 = LabelEncoder()\n",
    "X[:,1] = le_1.fit_transform(X[:,1])\n",
    "X[:,2] = le_2.fit_transform(X[:,2])\n",
    "pd.DataFrame(X).to_csv('LabelEncoded_telangana_final.csv')\n",
    "X"
   ]
  },
  {
   "cell_type": "code",
   "execution_count": 8,
   "metadata": {},
   "outputs": [
    {
     "data": {
      "text/plain": [
       "array([4200, 5525, 5525, ..., 4450, 4425, 4550], dtype=int64)"
      ]
     },
     "execution_count": 8,
     "metadata": {},
     "output_type": "execute_result"
    }
   ],
   "source": [
    "y = data.iloc[:,5].values\n",
    "y"
   ]
  },
  {
   "cell_type": "markdown",
   "metadata": {},
   "source": [
    "### train test split "
   ]
  },
  {
   "cell_type": "code",
   "execution_count": 9,
   "metadata": {},
   "outputs": [
    {
     "data": {
      "text/plain": [
       "array([4340, 4990, 4263, ..., 3800, 4000, 3850], dtype=int64)"
      ]
     },
     "execution_count": 9,
     "metadata": {},
     "output_type": "execute_result"
    }
   ],
   "source": [
    "from sklearn.model_selection import train_test_split as tts\n",
    "X_train ,X_test, y_train, y_test = tts(X,y,test_size = 0.2,random_state = 0)\n",
    "y_train"
   ]
  },
  {
   "cell_type": "code",
   "execution_count": 10,
   "metadata": {},
   "outputs": [
    {
     "data": {
      "text/plain": [
       "array([[2011, 1, 5, 1],\n",
       "       [2013, 3, 5, 8],\n",
       "       [2016, 0, 2, 3],\n",
       "       ...,\n",
       "       [2014, 3, 3, 2],\n",
       "       [2015, 0, 4, 11],\n",
       "       [2013, 0, 2, 5]], dtype=object)"
      ]
     },
     "execution_count": 10,
     "metadata": {},
     "output_type": "execute_result"
    }
   ],
   "source": [
    "X_train"
   ]
  },
  {
   "cell_type": "markdown",
   "metadata": {
    "colab_type": "text",
    "id": "g16qFkFQVC35"
   },
   "source": [
    "## Training the Decision Tree Regression model on the Training set"
   ]
  },
  {
   "cell_type": "code",
   "execution_count": 11,
   "metadata": {},
   "outputs": [
    {
     "data": {
      "text/plain": [
       "DecisionTreeRegressor()"
      ]
     },
     "execution_count": 11,
     "metadata": {},
     "output_type": "execute_result"
    }
   ],
   "source": [
    "from sklearn.tree import DecisionTreeRegressor\n",
    "dtr = DecisionTreeRegressor()\n",
    "dtr.fit(X_train,y_train)"
   ]
  },
  {
   "cell_type": "code",
   "execution_count": 12,
   "metadata": {},
   "outputs": [
    {
     "name": "stdout",
     "output_type": "stream",
     "text": [
      "[[2014 0 2 12]\n",
      " [2014 0 4 9]\n",
      " [2016 2 1 11]\n",
      " ...\n",
      " [2014 2 0 12]\n",
      " [2017 2 1 1]\n",
      " [2016 2 2 6]]\n"
     ]
    }
   ],
   "source": [
    "print(X_test)"
   ]
  },
  {
   "cell_type": "code",
   "execution_count": 13,
   "metadata": {},
   "outputs": [
    {
     "name": "stdout",
     "output_type": "stream",
     "text": [
      "[[4050.         4050.        ]\n",
      " [4000.         4000.        ]\n",
      " [4095.65217391 4500.        ]\n",
      " ...\n",
      " [4100.         4100.        ]\n",
      " [4478.26086957 3800.        ]\n",
      " [4000.         4000.        ]]\n"
     ]
    }
   ],
   "source": [
    "y_pred_dtr = dtr.predict(X_test)\n",
    "print(np.concatenate((y_pred_dtr.reshape(len(y_pred_dtr),1), y_test.reshape(len(y_test),1)),1))"
   ]
  },
  {
   "cell_type": "code",
   "execution_count": 14,
   "metadata": {},
   "outputs": [
    {
     "data": {
      "text/plain": [
       "['decision_tree_telangana.dat']"
      ]
     },
     "execution_count": 14,
     "metadata": {},
     "output_type": "execute_result"
    }
   ],
   "source": [
    "import joblib as jb\n",
    "jb.dump(dtr,'decision_tree_telangana.ml')\n",
    "jb.dump(dtr,'decision_tree_telangana.pkl')\n",
    "jb.dump(dtr,'decision_tree_telangana.dat')"
   ]
  },
  {
   "cell_type": "code",
   "execution_count": 15,
   "metadata": {},
   "outputs": [
    {
     "data": {
      "text/plain": [
       "['le_2.pkl']"
      ]
     },
     "execution_count": 15,
     "metadata": {},
     "output_type": "execute_result"
    }
   ],
   "source": [
    "jb.dump(le_1,'le_1.pkl')\n",
    "jb.dump(le_2,'le_2.pkl')"
   ]
  },
  {
   "cell_type": "markdown",
   "metadata": {
    "colab_type": "text",
    "id": "V4nELFnnIod1"
   },
   "source": [
    "## Evaluating the Model Performance"
   ]
  },
  {
   "cell_type": "code",
   "execution_count": 16,
   "metadata": {
    "colab": {},
    "colab_type": "code",
    "id": "_G2QS1UoIsTZ"
   },
   "outputs": [
    {
     "data": {
      "text/plain": [
       "0.9126466214923368"
      ]
     },
     "execution_count": 16,
     "metadata": {},
     "output_type": "execute_result"
    }
   ],
   "source": [
    "from sklearn.metrics import r2_score\n",
    "r2_score(y_test, y_pred_dtr)"
   ]
  },
  {
   "cell_type": "code",
   "execution_count": 17,
   "metadata": {},
   "outputs": [],
   "source": [
    "y_pred = dtr.predict([[2020,le_1.transform(['Adilabad']),le_2.transform(['Cotton (Unginned)']),3]])"
   ]
  },
  {
   "cell_type": "code",
   "execution_count": 18,
   "metadata": {},
   "outputs": [
    {
     "name": "stdout",
     "output_type": "stream",
     "text": [
      "[3974.44444444]\n"
     ]
    }
   ],
   "source": [
    "print(y_pred)"
   ]
  },
  {
   "cell_type": "markdown",
   "metadata": {},
   "source": [
    "### Random forest Regression "
   ]
  },
  {
   "cell_type": "code",
   "execution_count": 19,
   "metadata": {},
   "outputs": [
    {
     "data": {
      "text/plain": [
       "RandomForestRegressor()"
      ]
     },
     "execution_count": 19,
     "metadata": {},
     "output_type": "execute_result"
    }
   ],
   "source": [
    "from sklearn.ensemble import RandomForestRegressor\n",
    "rfr = RandomForestRegressor()\n",
    "rfr.fit(X_train,y_train)"
   ]
  },
  {
   "cell_type": "code",
   "execution_count": 20,
   "metadata": {},
   "outputs": [
    {
     "name": "stdout",
     "output_type": "stream",
     "text": [
      "[[4050.         4050.        ]\n",
      " [4000.         4000.        ]\n",
      " [4088.72784344 4500.        ]\n",
      " ...\n",
      " [4100.         4100.        ]\n",
      " [4502.79797236 3800.        ]\n",
      " [4000.         4000.        ]]\n"
     ]
    }
   ],
   "source": [
    "y_pred_rfr = rfr.predict(X_test)\n",
    "print(np.concatenate((y_pred_rfr.reshape(len(y_pred_rfr),1), y_test.reshape(len(y_test),1)),1))"
   ]
  },
  {
   "cell_type": "code",
   "execution_count": 21,
   "metadata": {},
   "outputs": [
    {
     "data": {
      "text/plain": [
       "0.9128555595728136"
      ]
     },
     "execution_count": 21,
     "metadata": {},
     "output_type": "execute_result"
    }
   ],
   "source": [
    "from sklearn.metrics import r2_score\n",
    "r2_score(y_test, y_pred_rfr)"
   ]
  },
  {
   "cell_type": "code",
   "execution_count": 22,
   "metadata": {},
   "outputs": [
    {
     "data": {
      "text/plain": [
       "['random_forest_telangana.pkl']"
      ]
     },
     "execution_count": 22,
     "metadata": {},
     "output_type": "execute_result"
    }
   ],
   "source": [
    "import joblib as jb\n",
    "jb.dump(rfr,'random_forest_telangana.ml')\n",
    "jb.dump(rfr,'random_forest_telangana.pkl')"
   ]
  },
  {
   "cell_type": "code",
   "execution_count": null,
   "metadata": {},
   "outputs": [],
   "source": []
  }
 ],
 "metadata": {
  "colab": {
   "collapsed_sections": [],
   "name": "decision_tree_regression.ipynb",
   "provenance": [],
   "toc_visible": true
  },
  "kernelspec": {
   "display_name": "Python 3",
   "language": "python",
   "name": "python3"
  },
  "language_info": {
   "codemirror_mode": {
    "name": "ipython",
    "version": 3
   },
   "file_extension": ".py",
   "mimetype": "text/x-python",
   "name": "python",
   "nbconvert_exporter": "python",
   "pygments_lexer": "ipython3",
   "version": "3.8.3"
  }
 },
 "nbformat": 4,
 "nbformat_minor": 1
}
